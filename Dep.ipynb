{
  "nbformat": 4,
  "nbformat_minor": 0,
  "metadata": {
    "colab": {
      "provenance": []
    },
    "kernelspec": {
      "name": "python3",
      "display_name": "Python 3"
    },
    "language_info": {
      "name": "python"
    }
  },
  "cells": [
    {
      "cell_type": "code",
      "source": [
        "import pandas as pd\n",
        "import numpy as np\n",
        "import matplotlib.pyplot as plt\n",
        "import seaborn as sns\n",
        "from scipy.stats import skew\n",
        "from sklearn.model_selection import train_test_split\n",
        "from sklearn.preprocessing import StandardScaler\n",
        "from xgboost import XGBRegressor\n",
        "import joblib\n",
        "import warnings\n",
        "\n",
        "# Suppress RuntimeWarnings for skew calculation\n",
        "warnings.filterwarnings(\"ignore\", category=RuntimeWarning)\n",
        "\n",
        "# Load the CSV file\n",
        "data = pd.read_csv(\"/content/sample_data/solarpowergeneration.csv\")\n",
        "\n",
        "# Fill missing values with mean\n",
        "data.fillna(data.mean(numeric_only=True), inplace=True)\n",
        "\n",
        "# Remove all outliers completely until none remain\n",
        "while True:\n",
        "    total_outliers = 0\n",
        "    for col in data.select_dtypes(include='number').columns:\n",
        "        Q1 = data[col].quantile(0.25)\n",
        "        Q3 = data[col].quantile(0.75)\n",
        "        IQR = Q3 - Q1\n",
        "        lower = Q1 - 1.5 * IQR\n",
        "        upper = Q3 + 1.5 * IQR\n",
        "        outliers = data[(data[col] < lower) | (data[col] > upper)]\n",
        "        total_outliers += len(outliers)\n",
        "\n",
        "        # Remove outliers\n",
        "        data = data[(data[col] >= lower) & (data[col] <= upper)]\n",
        "\n",
        "    if total_outliers == 0:\n",
        "        break\n",
        "\n",
        "# Filter numeric features with non-zero standard deviation to avoid skew warning\n",
        "numeric_data = data.select_dtypes(include='number')\n",
        "non_constant_data = numeric_data.loc[:, numeric_data.std() > 1e-6]\n",
        "\n",
        "# Check skewness\n",
        "skewed_features = non_constant_data.apply(lambda x: skew(x.dropna())).sort_values(ascending=False)\n",
        "\n",
        "# Filter features with high skewness\n",
        "high_skew = skewed_features[abs(skewed_features) > 0.75]\n",
        "\n",
        "# Apply log1p transformation to reduce skewness\n",
        "for col in high_skew.index:\n",
        "    data[col] = np.log1p(data[col])\n",
        "\n",
        "# Save feature names for consistency during inference\n",
        "training_columns = data.drop(columns=['power-generated']).columns\n",
        "\n",
        "# Define features and target\n",
        "X = data.drop('power-generated', axis=1)\n",
        "y = data['power-generated']\n",
        "\n",
        "# Train-test split\n",
        "X_train, X_test, y_train, y_test = train_test_split(X, y, test_size=0.2,\n",
        "                                                    random_state=42)\n",
        "\n",
        "# Feature scaling\n",
        "scaler = StandardScaler()\n",
        "X_train_scaled = scaler.fit_transform(X_train)\n",
        "X_test_scaled = scaler.transform(X_test)\n",
        "\n",
        "# Train XGBoost Regressor\n",
        "xgb_model = XGBRegressor(random_state=42)\n",
        "xgb_model.fit(X_train_scaled, y_train)\n",
        "\n",
        "# Save model, scaler, and feature names\n",
        "joblib.dump(xgb_model, \"xgb.pkl\")\n",
        "joblib.dump(scaler, \"scaler.pkl\")\n",
        "joblib.dump(list(training_columns), \"feature_names.pkl\")\n",
        "\n",
        "print(\"Model, Scaler & Feature Names Saved Successfully!\")\n"
      ],
      "metadata": {
        "colab": {
          "base_uri": "https://localhost:8080/"
        },
        "id": "88u_JoTHcnNb",
        "outputId": "3afbd400-af32-4ba3-d61a-1a4033301f3c"
      },
      "execution_count": null,
      "outputs": [
        {
          "output_type": "stream",
          "name": "stdout",
          "text": [
            "Model, Scaler & Feature Names Saved Successfully!\n"
          ]
        }
      ]
    },
    {
      "cell_type": "markdown",
      "source": [
        "**Streamlit script**"
      ],
      "metadata": {
        "id": "FaSa-FZtlcwp"
      }
    },
    {
      "cell_type": "code",
      "source": [
        "import streamlit as st\n",
        "import pandas as pd\n",
        "import numpy as np\n",
        "import joblib\n",
        "\n",
        "# Load model, scaler, and feature names\n",
        "model = joblib.load(\"xgb.pkl\")\n",
        "scaler = joblib.load(\"scaler.pkl\")\n",
        "feature_names = joblib.load(\"feature_names.pkl\")\n",
        "\n",
        "# Page configuration and styling\n",
        "st.set_page_config(page_title=\"Solar Power Prediction\", page_icon=\"🔆\",\n",
        "                   layout=\"wide\")\n",
        "st.markdown(\n",
        "    \"\"\"\n",
        "    <style>\n",
        "        .stApp {\n",
        "            background: linear-gradient(to right, #2b5876, #4e4376);\n",
        "            color: white;\n",
        "        }\n",
        "        .stSidebar {\n",
        "            background-color: #333;\n",
        "        }\n",
        "        .stButton>button {\n",
        "            background-color: #ff7f50;\n",
        "            color: white;\n",
        "            border-radius: 10px;\n",
        "            font-size: 18px;\n",
        "        }\n",
        "    </style>\n",
        "    \"\"\", unsafe_allow_html=True\n",
        ")\n",
        "\n",
        "st.title(\"🔆 Solar Power Generation Prediction\")\n",
        "st.markdown(\"Provide feature values below to predict power generated from the solar panel.\")\n",
        "\n",
        "st.sidebar.header(\"Input Solar Features\")\n",
        "\n",
        "# Create input form\n",
        "def get_user_input():\n",
        "    input_df = pd.DataFrame(columns=feature_names)\n",
        "    input_df.loc[0] = 0  # Initialize with zeros\n",
        "\n",
        "    for feature in feature_names:\n",
        "        if \"temperature\" in feature or \"humidity\" in feature:\n",
        "            input_df[feature] = st.sidebar.number_input(f\"{feature}\",\n",
        "                                                        min_value=0.0, max_value=100.0, value=25.0)\n",
        "        else:\n",
        "            input_df[feature] = st.sidebar.number_input(f\"{feature}\", value=1.0)\n",
        "\n",
        "    return input_df\n",
        "\n",
        "input_data = get_user_input()\n",
        "\n",
        "# Scale the data\n",
        "scaled_input = scaler.transform(input_data)\n",
        "\n",
        "# Prediction section\n",
        "st.subheader(\"Prediction Result\")\n",
        "if st.button(\"Predict Power\"):\n",
        "    prediction = model.predict(scaled_input)[0]\n",
        "    st.success(f\"Predicted Power Generated: **{np.expm1(prediction):.2f} units**\")"
      ],
      "metadata": {
        "id": "XYP9k97BlcCD"
      },
      "execution_count": null,
      "outputs": []
    }
  ]
}